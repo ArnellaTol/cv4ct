{
 "cells": [
  {
   "cell_type": "code",
   "execution_count": 4,
   "id": "a08720ff",
   "metadata": {},
   "outputs": [],
   "source": [
    "import os\n",
    "import json\n",
    "import pandas as pd\n",
    "\n",
    "def coco_to_binary_csv(dataset_dir):\n",
    "    subsets = ['train', 'valid', 'test']\n",
    "    all_csvs = {}\n",
    "\n",
    "    for subset in subsets:\n",
    "        json_path = os.path.join(dataset_dir, subset, '_annotations.coco.json')\n",
    "        with open(json_path, 'r') as f:\n",
    "            data = json.load(f)\n",
    "\n",
    "        # image_id → filename\n",
    "        id_to_file = {img['id']: img['file_name'] for img in data['images']}\n",
    "\n",
    "        # Соберем все category_id для каждого image_id\n",
    "        image_labels = {}\n",
    "        for ann in data['annotations']:\n",
    "            img_id = ann['image_id']\n",
    "            cat_id = ann['category_id']\n",
    "            if img_id not in image_labels:\n",
    "                image_labels[img_id] = []\n",
    "            image_labels[img_id].append(cat_id)\n",
    "\n",
    "        # Для каждого изображения определим итоговую метку\n",
    "        rows = []\n",
    "        for img_id, labels in image_labels.items():\n",
    "            filename = id_to_file[img_id]\n",
    "\n",
    "            # Если есть хотя бы один 'Effected' (category_id == 1) → label = 1\n",
    "            if 1 in labels:\n",
    "                label = 1\n",
    "            else:\n",
    "                label = 0  # всё нормальное\n",
    "            rows.append((filename, label))\n",
    "\n",
    "        # Преобразуем в DataFrame и сохраним\n",
    "        df = pd.DataFrame(rows, columns=['filename', 'label'])\n",
    "        csv_path = os.path.join(dataset_dir, f'{subset}_labels.csv')\n",
    "        df.to_csv(csv_path, index=False)\n",
    "        all_csvs[subset] = df\n",
    "\n",
    "    return all_csvs\n",
    "\n",
    "# Запуск\n",
    "dataset_path = 'sinusitis'  # Заменить на свой путь\n",
    "csvs = coco_to_binary_csv(dataset_path)\n"
   ]
  },
  {
   "cell_type": "code",
   "execution_count": 7,
   "id": "2490d715",
   "metadata": {},
   "outputs": [],
   "source": [
    "import os\n",
    "import json\n",
    "import pandas as pd\n",
    "\n",
    "def coco_to_detailed_csv(dataset_dir):\n",
    "    subsets = ['train', 'valid', 'test']\n",
    "    all_csvs = {}\n",
    "\n",
    "    for subset in subsets:\n",
    "        json_path = os.path.join(dataset_dir, subset, '_annotations.coco.json')\n",
    "        with open(json_path, 'r') as f:\n",
    "            data = json.load(f)\n",
    "\n",
    "        # image_id → filename\n",
    "        id_to_file = {img['id']: img['file_name'] for img in data['images']}\n",
    "\n",
    "        # Собираем категории аннотаций для каждого image_id\n",
    "        image_labels = {}\n",
    "        for ann in data['annotations']:\n",
    "            img_id = ann['image_id']\n",
    "            cat_id = ann['category_id']\n",
    "            if img_id not in image_labels:\n",
    "                image_labels[img_id] = []\n",
    "            image_labels[img_id].append(cat_id)\n",
    "\n",
    "        # Собираем итоговую таблицу\n",
    "        rows = []\n",
    "        for img_id, labels in image_labels.items():\n",
    "            filename = id_to_file[img_id]\n",
    "\n",
    "            # Гарантируем 2 аннотации (иначе дополним 2 как Normal)\n",
    "            if len(labels) < 2:\n",
    "                labels += [2] * (2 - len(labels))\n",
    "\n",
    "            # Заменяем 2 на 0 (Normal → 0)\n",
    "            label1 = 0 if labels[0] == 2 else labels[0]\n",
    "            label2 = 0 if labels[1] == 2 else labels[1]\n",
    "\n",
    "            # Результат: 1, если хотя бы один воспалённый синус\n",
    "            result_label = 1 if 1 in [label1, label2] else 0\n",
    "            rows.append((filename, label1, label2, result_label))\n",
    "\n",
    "        # Создаём DataFrame и сохраняем\n",
    "        df = pd.DataFrame(rows, columns=['filename', 'label1', 'label2', 'result_label'])\n",
    "        csv_path = os.path.join(dataset_dir, f'{subset}_detailed_labels.csv')\n",
    "        df.to_csv(csv_path, index=False)\n",
    "        all_csvs[subset] = df\n",
    "\n",
    "    return all_csvs\n",
    "\n",
    "# Пример запуска\n",
    "dataset_path = 'sinusitis'  # путь к датасету\n",
    "csvs = coco_to_detailed_csv(dataset_path)\n"
   ]
  },
  {
   "cell_type": "code",
   "execution_count": 31,
   "id": "353dccce",
   "metadata": {},
   "outputs": [
    {
     "name": "stdout",
     "output_type": "stream",
     "text": [
      "\n",
      "=== Fold 1 ===\n",
      "Epoch 1: Train acc = 0.6481, Val acc = 0.6429\n",
      "Epoch 2: Train acc = 0.8148, Val acc = 0.6786\n",
      "Epoch 3: Train acc = 0.8611, Val acc = 0.7143\n",
      "Epoch 4: Train acc = 0.9167, Val acc = 0.7143\n",
      "Epoch 5: Train acc = 0.9444, Val acc = 0.8571\n",
      "Epoch 6: Train acc = 0.9537, Val acc = 0.7143\n",
      "Epoch 7: Train acc = 0.9907, Val acc = 0.7143\n",
      "Epoch 8: Train acc = 0.9815, Val acc = 0.8929\n",
      "Epoch 9: Train acc = 0.9907, Val acc = 0.8571\n",
      "Epoch 10: Train acc = 0.9815, Val acc = 0.8214\n",
      "              precision    recall  f1-score   support\n",
      "\n",
      "           0       1.00      0.62      0.76        13\n",
      "           1       0.75      1.00      0.86        15\n",
      "\n",
      "    accuracy                           0.82        28\n",
      "   macro avg       0.88      0.81      0.81        28\n",
      "weighted avg       0.87      0.82      0.81        28\n",
      "\n",
      "\n",
      "=== Fold 2 ===\n",
      "Epoch 1: Train acc = 0.6330, Val acc = 0.8148\n",
      "Epoch 2: Train acc = 0.8349, Val acc = 0.8148\n",
      "Epoch 3: Train acc = 0.8899, Val acc = 0.7778\n",
      "Epoch 4: Train acc = 0.9541, Val acc = 0.7037\n",
      "Epoch 5: Train acc = 0.9450, Val acc = 0.7037\n",
      "Epoch 6: Train acc = 0.9817, Val acc = 0.7407\n",
      "Epoch 7: Train acc = 0.9817, Val acc = 0.7778\n",
      "Epoch 8: Train acc = 0.9633, Val acc = 0.7778\n",
      "Epoch 9: Train acc = 1.0000, Val acc = 0.8148\n",
      "Epoch 10: Train acc = 1.0000, Val acc = 0.8148\n",
      "              precision    recall  f1-score   support\n",
      "\n",
      "           0       0.71      1.00      0.83        12\n",
      "           1       1.00      0.67      0.80        15\n",
      "\n",
      "    accuracy                           0.81        27\n",
      "   macro avg       0.85      0.83      0.81        27\n",
      "weighted avg       0.87      0.81      0.81        27\n",
      "\n",
      "\n",
      "=== Fold 3 ===\n",
      "Epoch 1: Train acc = 0.7064, Val acc = 0.5556\n",
      "Epoch 2: Train acc = 0.8073, Val acc = 0.5556\n",
      "Epoch 3: Train acc = 0.8624, Val acc = 0.7037\n",
      "Epoch 4: Train acc = 0.9541, Val acc = 0.7407\n",
      "Epoch 5: Train acc = 0.9633, Val acc = 0.6667\n",
      "Epoch 6: Train acc = 0.9633, Val acc = 0.6667\n",
      "Epoch 7: Train acc = 0.9817, Val acc = 0.6296\n",
      "Epoch 8: Train acc = 1.0000, Val acc = 0.7778\n",
      "Epoch 9: Train acc = 0.9908, Val acc = 0.9259\n",
      "Epoch 10: Train acc = 1.0000, Val acc = 0.8148\n",
      "              precision    recall  f1-score   support\n",
      "\n",
      "           0       0.73      0.92      0.81        12\n",
      "           1       0.92      0.73      0.81        15\n",
      "\n",
      "    accuracy                           0.81        27\n",
      "   macro avg       0.82      0.82      0.81        27\n",
      "weighted avg       0.84      0.81      0.81        27\n",
      "\n",
      "\n",
      "=== Fold 4 ===\n",
      "Epoch 1: Train acc = 0.6514, Val acc = 0.5185\n",
      "Epoch 2: Train acc = 0.8807, Val acc = 0.7407\n",
      "Epoch 3: Train acc = 0.9083, Val acc = 0.7778\n",
      "Epoch 4: Train acc = 0.9358, Val acc = 0.7778\n",
      "Epoch 5: Train acc = 0.9633, Val acc = 0.8148\n",
      "Epoch 6: Train acc = 0.9908, Val acc = 0.8889\n",
      "Epoch 7: Train acc = 0.9725, Val acc = 0.9259\n",
      "Epoch 8: Train acc = 0.9633, Val acc = 0.9259\n",
      "Epoch 9: Train acc = 0.9817, Val acc = 0.8889\n",
      "Epoch 10: Train acc = 1.0000, Val acc = 0.8519\n",
      "              precision    recall  f1-score   support\n",
      "\n",
      "           0       0.90      0.75      0.82        12\n",
      "           1       0.82      0.93      0.88        15\n",
      "\n",
      "    accuracy                           0.85        27\n",
      "   macro avg       0.86      0.84      0.85        27\n",
      "weighted avg       0.86      0.85      0.85        27\n",
      "\n",
      "\n",
      "=== Fold 5 ===\n",
      "Epoch 1: Train acc = 0.6147, Val acc = 0.6296\n",
      "Epoch 2: Train acc = 0.8532, Val acc = 0.6296\n",
      "Epoch 3: Train acc = 0.8991, Val acc = 0.6296\n",
      "Epoch 4: Train acc = 0.9450, Val acc = 0.8519\n",
      "Epoch 5: Train acc = 0.9450, Val acc = 0.8519\n",
      "Epoch 6: Train acc = 0.9633, Val acc = 0.9259\n",
      "Epoch 7: Train acc = 0.9908, Val acc = 0.8519\n",
      "Epoch 8: Train acc = 1.0000, Val acc = 0.8889\n",
      "Epoch 9: Train acc = 1.0000, Val acc = 0.9259\n",
      "Epoch 10: Train acc = 0.9908, Val acc = 0.9630\n",
      "              precision    recall  f1-score   support\n",
      "\n",
      "           0       0.93      1.00      0.96        13\n",
      "           1       1.00      0.93      0.96        14\n",
      "\n",
      "    accuracy                           0.96        27\n",
      "   macro avg       0.96      0.96      0.96        27\n",
      "weighted avg       0.97      0.96      0.96        27\n",
      "\n"
     ]
    }
   ],
   "source": [
    "import os\n",
    "import pandas as pd\n",
    "from PIL import Image\n",
    "import torch\n",
    "import torch.nn as nn\n",
    "import torch.optim as optim\n",
    "from torch.utils.data import Dataset, DataLoader\n",
    "from torchvision import transforms\n",
    "from torchvision.models import resnet18, ResNet18_Weights\n",
    "from sklearn.model_selection import StratifiedKFold\n",
    "from sklearn.metrics import classification_report\n",
    "import numpy as np\n",
    "import random\n",
    "\n",
    "# ✅ Reproducibility\n",
    "SEED = 42\n",
    "torch.manual_seed(SEED)\n",
    "np.random.seed(SEED)\n",
    "random.seed(SEED)\n",
    "\n",
    "# ✅ Настройки путей\n",
    "csv_file = \"sinusitis/full_labels.csv\"\n",
    "image_dir = \"sinusitis/full_imgs\"\n",
    "\n",
    "# ✅ Кастомный Dataset\n",
    "class SinusDataset(Dataset):\n",
    "    def __init__(self, df, images_dir, transform=None):\n",
    "        self.df = df.reset_index(drop=True)\n",
    "        self.images_dir = images_dir\n",
    "        self.transform = transform\n",
    "\n",
    "    def __len__(self):\n",
    "        return len(self.df)\n",
    "\n",
    "    def __getitem__(self, idx):\n",
    "        row = self.df.iloc[idx]\n",
    "        img_path = os.path.join(self.images_dir, row['filename'])\n",
    "        image = Image.open(img_path).convert(\"RGB\")\n",
    "        label = int(row['result_label'])\n",
    "        if self.transform:\n",
    "            image = self.transform(image)\n",
    "        return image, label\n",
    "\n",
    "# ✅ Трансформации\n",
    "train_transform = transforms.Compose([\n",
    "    transforms.Resize((224, 224)),\n",
    "    transforms.RandomHorizontalFlip(),\n",
    "    transforms.RandomRotation(10),\n",
    "    transforms.ToTensor(),\n",
    "])\n",
    "\n",
    "val_transform = transforms.Compose([\n",
    "    transforms.Resize((224, 224)),\n",
    "    transforms.ToTensor(),\n",
    "])\n",
    "\n",
    "# ✅ Модель\n",
    "def create_model():\n",
    "    model = resnet18(weights=ResNet18_Weights.DEFAULT)\n",
    "    model.fc = nn.Linear(model.fc.in_features, 2)  # binary classification\n",
    "    return model\n",
    "\n",
    "# ✅ Обучение и валидация\n",
    "def train_val(model, train_loader, val_loader, device, epochs=10):\n",
    "    criterion = nn.CrossEntropyLoss()\n",
    "    optimizer = optim.Adam(model.parameters(), lr=1e-4)\n",
    "\n",
    "    model.to(device)\n",
    "\n",
    "    for epoch in range(epochs):\n",
    "        model.train()\n",
    "        train_loss, train_correct = 0, 0\n",
    "\n",
    "        for images, labels in train_loader:\n",
    "            images, labels = images.to(device), labels.to(device)\n",
    "\n",
    "            optimizer.zero_grad()\n",
    "            outputs = model(images)\n",
    "            loss = criterion(outputs, labels)\n",
    "            loss.backward()\n",
    "            optimizer.step()\n",
    "\n",
    "            train_loss += loss.item() * images.size(0)\n",
    "            train_correct += (outputs.argmax(1) == labels).sum().item()\n",
    "\n",
    "        model.eval()\n",
    "        val_correct, val_total = 0, 0\n",
    "        with torch.no_grad():\n",
    "            for images, labels in val_loader:\n",
    "                images, labels = images.to(device), labels.to(device)\n",
    "                outputs = model(images)\n",
    "                val_correct += (outputs.argmax(1) == labels).sum().item()\n",
    "                val_total += labels.size(0)\n",
    "\n",
    "        print(f\"Epoch {epoch+1}: Train acc = {train_correct/len(train_loader.dataset):.4f}, \"\n",
    "              f\"Val acc = {val_correct/val_total:.4f}\")\n",
    "\n",
    "    return model\n",
    "\n",
    "# ✅ Кросс-валидация\n",
    "device = torch.device(\"cuda\" if torch.cuda.is_available() else \"mps\" if torch.backends.mps.is_available() else \"cpu\")\n",
    "\n",
    "df = pd.read_csv(csv_file)\n",
    "skf = StratifiedKFold(n_splits=5, shuffle=True, random_state=SEED)\n",
    "\n",
    "for fold, (train_idx, val_idx) in enumerate(skf.split(df, df['result_label'])):\n",
    "    print(f\"\\n=== Fold {fold+1} ===\")\n",
    "    train_df = df.iloc[train_idx]\n",
    "    val_df = df.iloc[val_idx]\n",
    "\n",
    "    train_dataset = SinusDataset(train_df, image_dir, transform=train_transform)\n",
    "    val_dataset = SinusDataset(val_df, image_dir, transform=val_transform)\n",
    "\n",
    "    train_loader = DataLoader(train_dataset, batch_size=32, shuffle=True)\n",
    "    val_loader = DataLoader(val_dataset, batch_size=32, shuffle=False)\n",
    "\n",
    "    model = create_model()\n",
    "    model = train_val(model, train_loader, val_loader, device, epochs=10)\n",
    "\n",
    "    # Оценка модели после обучения\n",
    "    model.eval()\n",
    "    all_preds, all_labels = [], []\n",
    "    with torch.no_grad():\n",
    "        for images, labels in val_loader:\n",
    "            images = images.to(device)\n",
    "            outputs = model(images)\n",
    "            preds = outputs.argmax(1).cpu().numpy()\n",
    "            all_preds.extend(preds)\n",
    "            all_labels.extend(labels.numpy())\n",
    "\n",
    "    print(classification_report(all_labels, all_preds))\n",
    "    torch.save(model.state_dict(), f\"resnet18_fold{fold+1}.pth\")\n",
    "\n"
   ]
  },
  {
   "cell_type": "code",
   "execution_count": 32,
   "id": "e3d6d305",
   "metadata": {},
   "outputs": [
    {
     "name": "stderr",
     "output_type": "stream",
     "text": [
      "/Users/arnellatolegen/Desktop/sinus_ct_project/.venv/lib/python3.9/site-packages/torchvision/models/_utils.py:208: UserWarning: The parameter 'pretrained' is deprecated since 0.13 and may be removed in the future, please use 'weights' instead.\n",
      "  warnings.warn(\n",
      "/Users/arnellatolegen/Desktop/sinus_ct_project/.venv/lib/python3.9/site-packages/torchvision/models/_utils.py:223: UserWarning: Arguments other than a weight enum or `None` for 'weights' are deprecated since 0.13 and may be removed in the future. The current behavior is equivalent to passing `weights=ResNet18_Weights.IMAGENET1K_V1`. You can also use `weights=ResNet18_Weights.DEFAULT` to get the most up-to-date weights.\n",
      "  warnings.warn(msg)\n",
      "Fold 0 Epoch 1/10 - Training: 100%|██████████| 4/4 [00:04<00:00,  1.05s/it]\n"
     ]
    },
    {
     "name": "stdout",
     "output_type": "stream",
     "text": [
      "Fold 0 Epoch 1: Val Accuracy = 0.6000\n"
     ]
    },
    {
     "name": "stderr",
     "output_type": "stream",
     "text": [
      "Fold 0 Epoch 2/10 - Training: 100%|██████████| 4/4 [00:00<00:00,  9.17it/s]\n"
     ]
    },
    {
     "name": "stdout",
     "output_type": "stream",
     "text": [
      "Fold 0 Epoch 2: Val Accuracy = 0.5333\n"
     ]
    },
    {
     "name": "stderr",
     "output_type": "stream",
     "text": [
      "Fold 0 Epoch 3/10 - Training: 100%|██████████| 4/4 [00:00<00:00,  9.62it/s]\n"
     ]
    },
    {
     "name": "stdout",
     "output_type": "stream",
     "text": [
      "Fold 0 Epoch 3: Val Accuracy = 0.6667\n"
     ]
    },
    {
     "name": "stderr",
     "output_type": "stream",
     "text": [
      "Fold 0 Epoch 4/10 - Training: 100%|██████████| 4/4 [00:00<00:00,  9.25it/s]\n"
     ]
    },
    {
     "name": "stdout",
     "output_type": "stream",
     "text": [
      "Fold 0 Epoch 4: Val Accuracy = 0.7333\n"
     ]
    },
    {
     "name": "stderr",
     "output_type": "stream",
     "text": [
      "Fold 0 Epoch 5/10 - Training: 100%|██████████| 4/4 [00:00<00:00,  8.17it/s]\n"
     ]
    },
    {
     "name": "stdout",
     "output_type": "stream",
     "text": [
      "Fold 0 Epoch 5: Val Accuracy = 0.6667\n"
     ]
    },
    {
     "name": "stderr",
     "output_type": "stream",
     "text": [
      "Fold 0 Epoch 6/10 - Training: 100%|██████████| 4/4 [00:00<00:00,  9.57it/s]\n"
     ]
    },
    {
     "name": "stdout",
     "output_type": "stream",
     "text": [
      "Fold 0 Epoch 6: Val Accuracy = 0.6000\n"
     ]
    },
    {
     "name": "stderr",
     "output_type": "stream",
     "text": [
      "Fold 0 Epoch 7/10 - Training: 100%|██████████| 4/4 [00:00<00:00,  9.64it/s]\n"
     ]
    },
    {
     "name": "stdout",
     "output_type": "stream",
     "text": [
      "Fold 0 Epoch 7: Val Accuracy = 0.8000\n"
     ]
    },
    {
     "name": "stderr",
     "output_type": "stream",
     "text": [
      "Fold 0 Epoch 8/10 - Training: 100%|██████████| 4/4 [00:00<00:00,  9.13it/s]\n"
     ]
    },
    {
     "name": "stdout",
     "output_type": "stream",
     "text": [
      "Fold 0 Epoch 8: Val Accuracy = 0.9333\n"
     ]
    },
    {
     "name": "stderr",
     "output_type": "stream",
     "text": [
      "Fold 0 Epoch 9/10 - Training: 100%|██████████| 4/4 [00:00<00:00,  9.30it/s]\n"
     ]
    },
    {
     "name": "stdout",
     "output_type": "stream",
     "text": [
      "Fold 0 Epoch 9: Val Accuracy = 0.7333\n"
     ]
    },
    {
     "name": "stderr",
     "output_type": "stream",
     "text": [
      "Fold 0 Epoch 10/10 - Training: 100%|██████████| 4/4 [00:00<00:00,  9.05it/s]\n"
     ]
    },
    {
     "name": "stdout",
     "output_type": "stream",
     "text": [
      "Fold 0 Epoch 10: Val Accuracy = 0.7333\n"
     ]
    },
    {
     "name": "stderr",
     "output_type": "stream",
     "text": [
      "Fold 1 Epoch 1/10 - Training: 100%|██████████| 4/4 [00:00<00:00,  9.04it/s]\n"
     ]
    },
    {
     "name": "stdout",
     "output_type": "stream",
     "text": [
      "Fold 1 Epoch 1: Val Accuracy = 0.2000\n"
     ]
    },
    {
     "name": "stderr",
     "output_type": "stream",
     "text": [
      "Fold 1 Epoch 2/10 - Training: 100%|██████████| 4/4 [00:00<00:00,  9.27it/s]\n"
     ]
    },
    {
     "name": "stdout",
     "output_type": "stream",
     "text": [
      "Fold 1 Epoch 2: Val Accuracy = 0.4000\n"
     ]
    },
    {
     "name": "stderr",
     "output_type": "stream",
     "text": [
      "Fold 1 Epoch 3/10 - Training: 100%|██████████| 4/4 [00:00<00:00,  9.37it/s]\n"
     ]
    },
    {
     "name": "stdout",
     "output_type": "stream",
     "text": [
      "Fold 1 Epoch 3: Val Accuracy = 0.4667\n"
     ]
    },
    {
     "name": "stderr",
     "output_type": "stream",
     "text": [
      "Fold 1 Epoch 4/10 - Training: 100%|██████████| 4/4 [00:00<00:00,  9.35it/s]\n"
     ]
    },
    {
     "name": "stdout",
     "output_type": "stream",
     "text": [
      "Fold 1 Epoch 4: Val Accuracy = 0.4667\n"
     ]
    },
    {
     "name": "stderr",
     "output_type": "stream",
     "text": [
      "Fold 1 Epoch 5/10 - Training: 100%|██████████| 4/4 [00:00<00:00,  9.55it/s]\n"
     ]
    },
    {
     "name": "stdout",
     "output_type": "stream",
     "text": [
      "Fold 1 Epoch 5: Val Accuracy = 0.6000\n"
     ]
    },
    {
     "name": "stderr",
     "output_type": "stream",
     "text": [
      "Fold 1 Epoch 6/10 - Training: 100%|██████████| 4/4 [00:00<00:00,  9.30it/s]\n"
     ]
    },
    {
     "name": "stdout",
     "output_type": "stream",
     "text": [
      "Fold 1 Epoch 6: Val Accuracy = 0.6000\n"
     ]
    },
    {
     "name": "stderr",
     "output_type": "stream",
     "text": [
      "Fold 1 Epoch 7/10 - Training: 100%|██████████| 4/4 [00:00<00:00,  9.11it/s]\n"
     ]
    },
    {
     "name": "stdout",
     "output_type": "stream",
     "text": [
      "Fold 1 Epoch 7: Val Accuracy = 0.6000\n"
     ]
    },
    {
     "name": "stderr",
     "output_type": "stream",
     "text": [
      "Fold 1 Epoch 8/10 - Training: 100%|██████████| 4/4 [00:00<00:00,  9.32it/s]\n"
     ]
    },
    {
     "name": "stdout",
     "output_type": "stream",
     "text": [
      "Fold 1 Epoch 8: Val Accuracy = 0.6000\n"
     ]
    },
    {
     "name": "stderr",
     "output_type": "stream",
     "text": [
      "Fold 1 Epoch 9/10 - Training: 100%|██████████| 4/4 [00:00<00:00,  9.58it/s]\n"
     ]
    },
    {
     "name": "stdout",
     "output_type": "stream",
     "text": [
      "Fold 1 Epoch 9: Val Accuracy = 0.6000\n"
     ]
    },
    {
     "name": "stderr",
     "output_type": "stream",
     "text": [
      "Fold 1 Epoch 10/10 - Training: 100%|██████████| 4/4 [00:00<00:00,  8.47it/s]\n"
     ]
    },
    {
     "name": "stdout",
     "output_type": "stream",
     "text": [
      "Fold 1 Epoch 10: Val Accuracy = 0.6000\n"
     ]
    },
    {
     "name": "stderr",
     "output_type": "stream",
     "text": [
      "Fold 2 Epoch 1/10 - Training: 100%|██████████| 4/4 [00:02<00:00,  1.53it/s]\n"
     ]
    },
    {
     "name": "stdout",
     "output_type": "stream",
     "text": [
      "Fold 2 Epoch 1: Val Accuracy = 0.4667\n"
     ]
    },
    {
     "name": "stderr",
     "output_type": "stream",
     "text": [
      "Fold 2 Epoch 2/10 - Training: 100%|██████████| 4/4 [00:00<00:00,  9.24it/s]\n"
     ]
    },
    {
     "name": "stdout",
     "output_type": "stream",
     "text": [
      "Fold 2 Epoch 2: Val Accuracy = 0.5333\n"
     ]
    },
    {
     "name": "stderr",
     "output_type": "stream",
     "text": [
      "Fold 2 Epoch 3/10 - Training: 100%|██████████| 4/4 [00:00<00:00,  9.21it/s]\n"
     ]
    },
    {
     "name": "stdout",
     "output_type": "stream",
     "text": [
      "Fold 2 Epoch 3: Val Accuracy = 0.5333\n"
     ]
    },
    {
     "name": "stderr",
     "output_type": "stream",
     "text": [
      "Fold 2 Epoch 4/10 - Training: 100%|██████████| 4/4 [00:00<00:00,  9.65it/s]\n"
     ]
    },
    {
     "name": "stdout",
     "output_type": "stream",
     "text": [
      "Fold 2 Epoch 4: Val Accuracy = 0.7333\n"
     ]
    },
    {
     "name": "stderr",
     "output_type": "stream",
     "text": [
      "Fold 2 Epoch 5/10 - Training: 100%|██████████| 4/4 [00:00<00:00,  9.36it/s]\n"
     ]
    },
    {
     "name": "stdout",
     "output_type": "stream",
     "text": [
      "Fold 2 Epoch 5: Val Accuracy = 0.7333\n"
     ]
    },
    {
     "name": "stderr",
     "output_type": "stream",
     "text": [
      "Fold 2 Epoch 6/10 - Training: 100%|██████████| 4/4 [00:00<00:00,  9.57it/s]\n"
     ]
    },
    {
     "name": "stdout",
     "output_type": "stream",
     "text": [
      "Fold 2 Epoch 6: Val Accuracy = 0.6667\n"
     ]
    },
    {
     "name": "stderr",
     "output_type": "stream",
     "text": [
      "Fold 2 Epoch 7/10 - Training: 100%|██████████| 4/4 [00:00<00:00,  8.74it/s]\n"
     ]
    },
    {
     "name": "stdout",
     "output_type": "stream",
     "text": [
      "Fold 2 Epoch 7: Val Accuracy = 0.7333\n"
     ]
    },
    {
     "name": "stderr",
     "output_type": "stream",
     "text": [
      "Fold 2 Epoch 8/10 - Training: 100%|██████████| 4/4 [00:00<00:00,  9.39it/s]\n"
     ]
    },
    {
     "name": "stdout",
     "output_type": "stream",
     "text": [
      "Fold 2 Epoch 8: Val Accuracy = 0.7333\n"
     ]
    },
    {
     "name": "stderr",
     "output_type": "stream",
     "text": [
      "Fold 2 Epoch 9/10 - Training: 100%|██████████| 4/4 [00:00<00:00,  9.50it/s]\n"
     ]
    },
    {
     "name": "stdout",
     "output_type": "stream",
     "text": [
      "Fold 2 Epoch 9: Val Accuracy = 0.7333\n"
     ]
    },
    {
     "name": "stderr",
     "output_type": "stream",
     "text": [
      "Fold 2 Epoch 10/10 - Training: 100%|██████████| 4/4 [00:00<00:00,  9.62it/s]\n"
     ]
    },
    {
     "name": "stdout",
     "output_type": "stream",
     "text": [
      "Fold 2 Epoch 10: Val Accuracy = 0.8000\n"
     ]
    },
    {
     "name": "stderr",
     "output_type": "stream",
     "text": [
      "Fold 3 Epoch 1/10 - Training: 100%|██████████| 4/4 [00:00<00:00,  8.84it/s]\n"
     ]
    },
    {
     "name": "stdout",
     "output_type": "stream",
     "text": [
      "Fold 3 Epoch 1: Val Accuracy = 0.4667\n"
     ]
    },
    {
     "name": "stderr",
     "output_type": "stream",
     "text": [
      "Fold 3 Epoch 2/10 - Training: 100%|██████████| 4/4 [00:00<00:00,  9.24it/s]\n"
     ]
    },
    {
     "name": "stdout",
     "output_type": "stream",
     "text": [
      "Fold 3 Epoch 2: Val Accuracy = 0.5333\n"
     ]
    },
    {
     "name": "stderr",
     "output_type": "stream",
     "text": [
      "Fold 3 Epoch 3/10 - Training: 100%|██████████| 4/4 [00:00<00:00,  9.46it/s]\n"
     ]
    },
    {
     "name": "stdout",
     "output_type": "stream",
     "text": [
      "Fold 3 Epoch 3: Val Accuracy = 0.5333\n"
     ]
    },
    {
     "name": "stderr",
     "output_type": "stream",
     "text": [
      "Fold 3 Epoch 4/10 - Training: 100%|██████████| 4/4 [00:00<00:00,  9.54it/s]\n"
     ]
    },
    {
     "name": "stdout",
     "output_type": "stream",
     "text": [
      "Fold 3 Epoch 4: Val Accuracy = 0.6000\n"
     ]
    },
    {
     "name": "stderr",
     "output_type": "stream",
     "text": [
      "Fold 3 Epoch 5/10 - Training: 100%|██████████| 4/4 [00:00<00:00,  8.52it/s]\n"
     ]
    },
    {
     "name": "stdout",
     "output_type": "stream",
     "text": [
      "Fold 3 Epoch 5: Val Accuracy = 0.6667\n"
     ]
    },
    {
     "name": "stderr",
     "output_type": "stream",
     "text": [
      "Fold 3 Epoch 6/10 - Training: 100%|██████████| 4/4 [00:00<00:00,  9.29it/s]\n"
     ]
    },
    {
     "name": "stdout",
     "output_type": "stream",
     "text": [
      "Fold 3 Epoch 6: Val Accuracy = 0.6667\n"
     ]
    },
    {
     "name": "stderr",
     "output_type": "stream",
     "text": [
      "Fold 3 Epoch 7/10 - Training: 100%|██████████| 4/4 [00:00<00:00,  9.57it/s]\n"
     ]
    },
    {
     "name": "stdout",
     "output_type": "stream",
     "text": [
      "Fold 3 Epoch 7: Val Accuracy = 0.8000\n"
     ]
    },
    {
     "name": "stderr",
     "output_type": "stream",
     "text": [
      "Fold 3 Epoch 8/10 - Training: 100%|██████████| 4/4 [00:00<00:00,  9.37it/s]\n"
     ]
    },
    {
     "name": "stdout",
     "output_type": "stream",
     "text": [
      "Fold 3 Epoch 8: Val Accuracy = 0.7333\n"
     ]
    },
    {
     "name": "stderr",
     "output_type": "stream",
     "text": [
      "Fold 3 Epoch 9/10 - Training: 100%|██████████| 4/4 [00:00<00:00,  9.63it/s]\n"
     ]
    },
    {
     "name": "stdout",
     "output_type": "stream",
     "text": [
      "Fold 3 Epoch 9: Val Accuracy = 0.7333\n"
     ]
    },
    {
     "name": "stderr",
     "output_type": "stream",
     "text": [
      "Fold 3 Epoch 10/10 - Training: 100%|██████████| 4/4 [00:00<00:00,  8.81it/s]\n"
     ]
    },
    {
     "name": "stdout",
     "output_type": "stream",
     "text": [
      "Fold 3 Epoch 10: Val Accuracy = 0.8000\n"
     ]
    },
    {
     "name": "stderr",
     "output_type": "stream",
     "text": [
      "Fold 4 Epoch 1/10 - Training: 100%|██████████| 4/4 [00:00<00:00,  6.98it/s]\n"
     ]
    },
    {
     "name": "stdout",
     "output_type": "stream",
     "text": [
      "Fold 4 Epoch 1: Val Accuracy = 0.4286\n"
     ]
    },
    {
     "name": "stderr",
     "output_type": "stream",
     "text": [
      "Fold 4 Epoch 2/10 - Training: 100%|██████████| 4/4 [00:00<00:00,  9.41it/s]\n"
     ]
    },
    {
     "name": "stdout",
     "output_type": "stream",
     "text": [
      "Fold 4 Epoch 2: Val Accuracy = 0.5714\n"
     ]
    },
    {
     "name": "stderr",
     "output_type": "stream",
     "text": [
      "Fold 4 Epoch 3/10 - Training: 100%|██████████| 4/4 [00:00<00:00,  9.42it/s]\n"
     ]
    },
    {
     "name": "stdout",
     "output_type": "stream",
     "text": [
      "Fold 4 Epoch 3: Val Accuracy = 0.5000\n"
     ]
    },
    {
     "name": "stderr",
     "output_type": "stream",
     "text": [
      "Fold 4 Epoch 4/10 - Training: 100%|██████████| 4/4 [00:00<00:00,  9.58it/s]\n"
     ]
    },
    {
     "name": "stdout",
     "output_type": "stream",
     "text": [
      "Fold 4 Epoch 4: Val Accuracy = 0.5714\n"
     ]
    },
    {
     "name": "stderr",
     "output_type": "stream",
     "text": [
      "Fold 4 Epoch 5/10 - Training: 100%|██████████| 4/4 [00:00<00:00,  9.60it/s]\n"
     ]
    },
    {
     "name": "stdout",
     "output_type": "stream",
     "text": [
      "Fold 4 Epoch 5: Val Accuracy = 0.6429\n"
     ]
    },
    {
     "name": "stderr",
     "output_type": "stream",
     "text": [
      "Fold 4 Epoch 6/10 - Training: 100%|██████████| 4/4 [00:00<00:00,  9.36it/s]\n"
     ]
    },
    {
     "name": "stdout",
     "output_type": "stream",
     "text": [
      "Fold 4 Epoch 6: Val Accuracy = 0.6429\n"
     ]
    },
    {
     "name": "stderr",
     "output_type": "stream",
     "text": [
      "Fold 4 Epoch 7/10 - Training: 100%|██████████| 4/4 [00:00<00:00,  9.58it/s]\n"
     ]
    },
    {
     "name": "stdout",
     "output_type": "stream",
     "text": [
      "Fold 4 Epoch 7: Val Accuracy = 0.6429\n"
     ]
    },
    {
     "name": "stderr",
     "output_type": "stream",
     "text": [
      "Fold 4 Epoch 8/10 - Training: 100%|██████████| 4/4 [00:00<00:00,  8.70it/s]\n"
     ]
    },
    {
     "name": "stdout",
     "output_type": "stream",
     "text": [
      "Fold 4 Epoch 8: Val Accuracy = 0.6429\n"
     ]
    },
    {
     "name": "stderr",
     "output_type": "stream",
     "text": [
      "Fold 4 Epoch 9/10 - Training: 100%|██████████| 4/4 [00:00<00:00,  9.57it/s]\n"
     ]
    },
    {
     "name": "stdout",
     "output_type": "stream",
     "text": [
      "Fold 4 Epoch 9: Val Accuracy = 0.6429\n"
     ]
    },
    {
     "name": "stderr",
     "output_type": "stream",
     "text": [
      "Fold 4 Epoch 10/10 - Training: 100%|██████████| 4/4 [00:00<00:00,  9.62it/s]"
     ]
    },
    {
     "name": "stdout",
     "output_type": "stream",
     "text": [
      "Fold 4 Epoch 10: Val Accuracy = 0.6429\n"
     ]
    },
    {
     "name": "stderr",
     "output_type": "stream",
     "text": [
      "\n"
     ]
    }
   ],
   "source": [
    "import os\n",
    "import torch\n",
    "import pandas as pd\n",
    "import numpy as np\n",
    "from torchvision import models, transforms\n",
    "from torch.utils.data import Dataset, DataLoader, Subset\n",
    "from sklearn.model_selection import StratifiedKFold\n",
    "from PIL import Image\n",
    "from torch import nn, optim\n",
    "from tqdm import tqdm\n",
    "\n",
    "# Путь к папке и таблице\n",
    "image_dir = 'sinusitis/full_imgs'\n",
    "csv_path = 'sinusitis/full_labels.csv'\n",
    "\n",
    "# Загружаем таблицу\n",
    "df = pd.read_csv(csv_path)\n",
    "\n",
    "# Фильтруем только строки с опухолью\n",
    "df = df[df['result_label'] == 1].copy()\n",
    "\n",
    "# Присваиваем класс: 0 - левая, 1 - правая, 2 - обе\n",
    "def get_tumor_side(row):\n",
    "    if row['label1'] == 1 and row['label2'] == 0:\n",
    "        return 0\n",
    "    elif row['label1'] == 0 and row['label2'] == 1:\n",
    "        return 1\n",
    "    else:\n",
    "        return 2\n",
    "\n",
    "df['class'] = df.apply(get_tumor_side, axis=1)\n",
    "\n",
    "# Настраиваем трансформации\n",
    "transform = transforms.Compose([\n",
    "    transforms.Resize((224, 224)),\n",
    "    transforms.RandomHorizontalFlip(),\n",
    "    transforms.RandomRotation(15),\n",
    "    transforms.ToTensor(),\n",
    "])\n",
    "\n",
    "val_transform = transforms.Compose([\n",
    "    transforms.Resize((224, 224)),\n",
    "    transforms.ToTensor(),\n",
    "])\n",
    "\n",
    "# Dataset\n",
    "class TumorDataset(Dataset):\n",
    "    def __init__(self, dataframe, image_dir, transform=None):\n",
    "        self.df = dataframe.reset_index(drop=True)\n",
    "        self.image_dir = image_dir\n",
    "        self.transform = transform\n",
    "\n",
    "    def __len__(self):\n",
    "        return len(self.df)\n",
    "\n",
    "    def __getitem__(self, idx):\n",
    "        img_path = os.path.join(self.image_dir, self.df.loc[idx, 'filename'])\n",
    "        image = Image.open(img_path).convert(\"RGB\")\n",
    "        label = self.df.loc[idx, 'class']\n",
    "        if self.transform:\n",
    "            image = self.transform(image)\n",
    "        return image, label\n",
    "\n",
    "# Модель\n",
    "def get_model():\n",
    "    model = models.resnet18(pretrained=True)\n",
    "    model.fc = nn.Linear(model.fc.in_features, 3)  # 3 класса\n",
    "    return model\n",
    "\n",
    "# Тренировка 1 фолда\n",
    "def train_one_fold(model, train_loader, val_loader, criterion, optimizer, device, fold):\n",
    "    best_acc = 0\n",
    "    os.makedirs('models_tumor_side', exist_ok=True)\n",
    "\n",
    "    for epoch in range(10):\n",
    "        model.train()\n",
    "        for images, labels in tqdm(train_loader, desc=f\"Fold {fold} Epoch {epoch+1}/10 - Training\"):\n",
    "            images, labels = images.to(device), labels.to(device)\n",
    "            optimizer.zero_grad()\n",
    "            outputs = model(images)\n",
    "            loss = criterion(outputs, labels)\n",
    "            loss.backward()\n",
    "            optimizer.step()\n",
    "\n",
    "        # Validation\n",
    "        model.eval()\n",
    "        correct, total = 0, 0\n",
    "        with torch.no_grad():\n",
    "            for images, labels in val_loader:\n",
    "                images, labels = images.to(device), labels.to(device)\n",
    "                outputs = model(images)\n",
    "                _, predicted = torch.max(outputs, 1)\n",
    "                total += labels.size(0)\n",
    "                correct += (predicted == labels).sum().item()\n",
    "\n",
    "        acc = correct / total\n",
    "        print(f\"Fold {fold} Epoch {epoch+1}: Val Accuracy = {acc:.4f}\")\n",
    "\n",
    "        # Сохраняем модель, если она лучше предыдущей\n",
    "        if acc > best_acc:\n",
    "            best_acc = acc\n",
    "            torch.save(model.state_dict(), f'models_tumor_side/best_model_fold{fold}.pt')\n",
    "\n",
    "# Кросс-валидация\n",
    "device = torch.device(\"cuda\" if torch.cuda.is_available() else \"mps\" if torch.backends.mps.is_available() else \"cpu\")\n",
    "skf = StratifiedKFold(n_splits=5, shuffle=True, random_state=42)\n",
    "\n",
    "for fold, (train_idx, val_idx) in enumerate(skf.split(df, df['class'])):\n",
    "    train_df = df.iloc[train_idx]\n",
    "    val_df = df.iloc[val_idx]\n",
    "\n",
    "    train_dataset = TumorDataset(train_df, image_dir, transform=transform)\n",
    "    val_dataset = TumorDataset(val_df, image_dir, transform=val_transform)\n",
    "\n",
    "    train_loader = DataLoader(train_dataset, batch_size=16, shuffle=True)\n",
    "    val_loader = DataLoader(val_dataset, batch_size=16, shuffle=False)\n",
    "\n",
    "    model = get_model().to(device)\n",
    "    criterion = nn.CrossEntropyLoss()\n",
    "    optimizer = optim.Adam(model.parameters(), lr=1e-4)\n",
    "\n",
    "    train_one_fold(model, train_loader, val_loader, criterion, optimizer, device, fold)\n"
   ]
  },
  {
   "cell_type": "code",
   "execution_count": 33,
   "id": "316a5739",
   "metadata": {},
   "outputs": [
    {
     "name": "stdout",
     "output_type": "stream",
     "text": [
      "Баланс классов по стороне опухоли:\n",
      "tumor_side\n",
      "Both     37\n",
      "Left     32\n",
      "Right     5\n",
      "Name: count, dtype: int64\n"
     ]
    },
    {
     "name": "stderr",
     "output_type": "stream",
     "text": [
      "/var/folders/rp/j49jf4lj2b36n_gt75n_v8mh0000gn/T/ipykernel_68898/3275257236.py:20: SettingWithCopyWarning: \n",
      "A value is trying to be set on a copy of a slice from a DataFrame.\n",
      "Try using .loc[row_indexer,col_indexer] = value instead\n",
      "\n",
      "See the caveats in the documentation: https://pandas.pydata.org/pandas-docs/stable/user_guide/indexing.html#returning-a-view-versus-a-copy\n",
      "  df_with_tumor['tumor_side'] = df_with_tumor.apply(classify_side, axis=1)\n"
     ]
    }
   ],
   "source": [
    "import pandas as pd\n",
    "\n",
    "# Загрузка CSV\n",
    "df = pd.read_csv('sinusitis/full_labels.csv')\n",
    "\n",
    "# Отбор только снимков с опухолью (где хотя бы один label = 1)\n",
    "df_with_tumor = df[(df['label1'] == 1) | (df['label2'] == 1)]\n",
    "\n",
    "# Классификация по стороне опухоли\n",
    "def classify_side(row):\n",
    "    if row['label1'] == 1 and row['label2'] == 0:\n",
    "        return 'Left'\n",
    "    elif row['label1'] == 0 and row['label2'] == 1:\n",
    "        return 'Right'\n",
    "    elif row['label1'] == 1 and row['label2'] == 1:\n",
    "        return 'Both'\n",
    "    else:\n",
    "        return 'None'  # На всякий случай\n",
    "\n",
    "df_with_tumor['tumor_side'] = df_with_tumor.apply(classify_side, axis=1)\n",
    "\n",
    "# Подсчёт количества по классам\n",
    "print(\"Баланс классов по стороне опухоли:\")\n",
    "print(df_with_tumor['tumor_side'].value_counts())\n"
   ]
  },
  {
   "cell_type": "code",
   "execution_count": 35,
   "id": "b9dcd86d",
   "metadata": {},
   "outputs": [
    {
     "name": "stderr",
     "output_type": "stream",
     "text": [
      "/Users/arnellatolegen/Desktop/sinus_ct_project/.venv/lib/python3.9/site-packages/torchvision/models/_utils.py:208: UserWarning: The parameter 'pretrained' is deprecated since 0.13 and may be removed in the future, please use 'weights' instead.\n",
      "  warnings.warn(\n",
      "/Users/arnellatolegen/Desktop/sinus_ct_project/.venv/lib/python3.9/site-packages/torchvision/models/_utils.py:223: UserWarning: Arguments other than a weight enum or `None` for 'weights' are deprecated since 0.13 and may be removed in the future. The current behavior is equivalent to passing `weights=None`.\n",
      "  warnings.warn(msg)\n"
     ]
    },
    {
     "name": "stdout",
     "output_type": "stream",
     "text": [
      "\n",
      "=== Tumor Detection ===\n",
      "Confusion Matrix:\n",
      " [[62  0]\n",
      " [ 3 71]]\n",
      "False Negative (пропущена опухоль): 3\n",
      "False Positive (ошибочно определена опухоль): 0\n",
      "Accuracy: 0.978\n",
      "\n",
      "=== Tumor Side Classification (among tumor cases) ===\n",
      "Confusion Matrix:\n",
      " [[29  0  1]\n",
      " [ 1  6 34]\n",
      " [ 0  0  0]]\n"
     ]
    }
   ],
   "source": [
    "import os\n",
    "import torch\n",
    "from torchvision import transforms\n",
    "from PIL import Image\n",
    "import pandas as pd\n",
    "from sklearn.metrics import confusion_matrix\n",
    "\n",
    "# Пути\n",
    "IMG_DIR = \"sinusitis/full_imgs\"\n",
    "LABEL_PATH = \"sinusitis/full_labels.csv\"\n",
    "\n",
    "import torch\n",
    "import torch.nn as nn\n",
    "from torchvision import models\n",
    "\n",
    "# Модель для классификации опухоли (есть/нет)\n",
    "model_tumor = models.resnet18(pretrained=False)\n",
    "model_tumor.fc = nn.Linear(model_tumor.fc.in_features, 2)\n",
    "model_tumor.load_state_dict(torch.load(\"resnet18_fold5.pth\"))\n",
    "model_tumor.eval()\n",
    "\n",
    "# Модель для определения стороны (Left / Right / Both)\n",
    "model_side = models.resnet18(pretrained=False)\n",
    "model_side.fc = nn.Linear(model_side.fc.in_features, 3)\n",
    "model_side.load_state_dict(torch.load(\"models_tumor_side/best_model_fold2.pt\"))\n",
    "model_side.eval()\n",
    "\n",
    "\n",
    "# Предобработка изображений\n",
    "transform = transforms.Compose([\n",
    "    transforms.Resize((224, 224)),\n",
    "    transforms.ToTensor(),\n",
    "])\n",
    "\n",
    "# Загрузка истинных меток\n",
    "df_labels = pd.read_csv(LABEL_PATH).set_index(\"filename\")\n",
    "\n",
    "# Результаты\n",
    "results = []\n",
    "\n",
    "# Проход по всем изображениям\n",
    "with torch.no_grad():\n",
    "    for filename in os.listdir(IMG_DIR):\n",
    "        if not filename.endswith(\".jpg\"):\n",
    "            continue\n",
    "\n",
    "        img_path = os.path.join(IMG_DIR, filename)\n",
    "        image = Image.open(img_path).convert(\"RGB\")\n",
    "        image_tensor = transform(image).unsqueeze(0)\n",
    "\n",
    "        # Предсказание наличия опухоли\n",
    "        output_tumor = model_tumor(image_tensor)\n",
    "        pred_tumor = int(output_tumor.argmax(1))\n",
    "\n",
    "        # Предсказание стороны (если есть опухоль)\n",
    "        if pred_tumor == 1:\n",
    "            output_side = model_side(image_tensor)\n",
    "            pred_side = int(output_side.argmax(1))\n",
    "        else:\n",
    "            pred_side = None  # нет опухоли — нет стороны\n",
    "\n",
    "        # Истинные значения\n",
    "        true_label = df_labels.loc[filename]\n",
    "        true_tumor = int(true_label[\"result_label\"])\n",
    "        true_side = int(true_label[\"label2\"]) if true_tumor == 1 else None\n",
    "\n",
    "        results.append({\n",
    "            \"filename\": filename,\n",
    "            \"true_tumor\": true_tumor,\n",
    "            \"pred_tumor\": pred_tumor,\n",
    "            \"true_side\": true_side,\n",
    "            \"pred_side\": pred_side,\n",
    "        })\n",
    "\n",
    "# Анализ\n",
    "df = pd.DataFrame(results)\n",
    "\n",
    "# Метрика по опухоли\n",
    "print(\"\\n=== Tumor Detection ===\")\n",
    "cm_tumor = confusion_matrix(df[\"true_tumor\"], df[\"pred_tumor\"])\n",
    "print(\"Confusion Matrix:\\n\", cm_tumor)\n",
    "tn, fp, fn, tp = cm_tumor.ravel()\n",
    "print(f\"False Negative (пропущена опухоль): {fn}\")\n",
    "print(f\"False Positive (ошибочно определена опухоль): {fp}\")\n",
    "print(f\"Accuracy: {(tp + tn) / (tp + tn + fp + fn):.3f}\")\n",
    "\n",
    "# Метрика по стороне (только если опухоль есть и у модели, и в истине)\n",
    "side_df = df[(df[\"true_tumor\"] == 1) & (df[\"pred_tumor\"] == 1)]\n",
    "if not side_df.empty:\n",
    "    print(\"\\n=== Tumor Side Classification (among tumor cases) ===\")\n",
    "    cm_side = confusion_matrix(side_df[\"true_side\"], side_df[\"pred_side\"])\n",
    "    print(\"Confusion Matrix:\\n\", cm_side)\n"
   ]
  }
 ],
 "metadata": {
  "kernelspec": {
   "display_name": ".venv",
   "language": "python",
   "name": "python3"
  },
  "language_info": {
   "codemirror_mode": {
    "name": "ipython",
    "version": 3
   },
   "file_extension": ".py",
   "mimetype": "text/x-python",
   "name": "python",
   "nbconvert_exporter": "python",
   "pygments_lexer": "ipython3",
   "version": "3.9.6"
  }
 },
 "nbformat": 4,
 "nbformat_minor": 5
}
